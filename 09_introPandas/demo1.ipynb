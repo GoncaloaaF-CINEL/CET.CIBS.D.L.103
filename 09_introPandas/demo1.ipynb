{
 "cells": [
  {
   "cell_type": "code",
   "id": "initial_id",
   "metadata": {
    "collapsed": true,
    "ExecuteTime": {
     "end_time": "2025-07-22T09:45:01.770327Z",
     "start_time": "2025-07-22T09:45:01.197142Z"
    }
   },
   "source": "import pandas as pd",
   "outputs": [],
   "execution_count": 2
  },
  {
   "metadata": {
    "ExecuteTime": {
     "end_time": "2025-07-22T09:45:51.161336Z",
     "start_time": "2025-07-22T09:45:51.158312Z"
    }
   },
   "cell_type": "code",
   "source": "df = pd.read_csv('oct.csv')",
   "id": "621dd8153ae5b902",
   "outputs": [],
   "execution_count": 4
  },
  {
   "metadata": {
    "ExecuteTime": {
     "end_time": "2025-07-22T09:46:01.152548Z",
     "start_time": "2025-07-22T09:46:01.144421Z"
    }
   },
   "cell_type": "code",
   "source": "df",
   "id": "3d3cc115be7b9b6",
   "outputs": [
    {
     "data": {
      "text/plain": [
       "           Date     Network    Upload  Download     Total\n",
       "0    2022-12-21  NOS-F368-5   47,7 MB  135,3 MB    183 MB\n",
       "1    2022-12-22  NOS-F368-5    259 MB  447,5 MB  706,5 MB\n",
       "2    2022-12-23  NOS-F368-5  263,7 MB  552,7 MB  816,4 MB\n",
       "3    2022-12-24  NOS-F368-5    275 MB  660,4 MB  935,4 MB\n",
       "4    2022-12-25  NOS-F368-5  100,6 MB  193,6 MB  294,2 MB\n",
       "..          ...         ...       ...       ...       ...\n",
       "326  2023-10-22       Wi-Fi   1,99 GB   4,59 GB   6,58 GB\n",
       "327  2023-10-23       Wi-Fi   4,11 GB   5,79 GB   9,89 GB\n",
       "328  2023-10-24       Wi-Fi   1,95 GB   6,86 GB   8,81 GB\n",
       "329  2023-10-25       Wi-Fi   5,99 GB   7,39 GB  13,38 GB\n",
       "330  2023-10-26       Wi-Fi  600,3 MB  12,14 GB  12,74 GB\n",
       "\n",
       "[331 rows x 5 columns]"
      ],
      "text/html": [
       "<div>\n",
       "<style scoped>\n",
       "    .dataframe tbody tr th:only-of-type {\n",
       "        vertical-align: middle;\n",
       "    }\n",
       "\n",
       "    .dataframe tbody tr th {\n",
       "        vertical-align: top;\n",
       "    }\n",
       "\n",
       "    .dataframe thead th {\n",
       "        text-align: right;\n",
       "    }\n",
       "</style>\n",
       "<table border=\"1\" class=\"dataframe\">\n",
       "  <thead>\n",
       "    <tr style=\"text-align: right;\">\n",
       "      <th></th>\n",
       "      <th>Date</th>\n",
       "      <th>Network</th>\n",
       "      <th>Upload</th>\n",
       "      <th>Download</th>\n",
       "      <th>Total</th>\n",
       "    </tr>\n",
       "  </thead>\n",
       "  <tbody>\n",
       "    <tr>\n",
       "      <th>0</th>\n",
       "      <td>2022-12-21</td>\n",
       "      <td>NOS-F368-5</td>\n",
       "      <td>47,7 MB</td>\n",
       "      <td>135,3 MB</td>\n",
       "      <td>183 MB</td>\n",
       "    </tr>\n",
       "    <tr>\n",
       "      <th>1</th>\n",
       "      <td>2022-12-22</td>\n",
       "      <td>NOS-F368-5</td>\n",
       "      <td>259 MB</td>\n",
       "      <td>447,5 MB</td>\n",
       "      <td>706,5 MB</td>\n",
       "    </tr>\n",
       "    <tr>\n",
       "      <th>2</th>\n",
       "      <td>2022-12-23</td>\n",
       "      <td>NOS-F368-5</td>\n",
       "      <td>263,7 MB</td>\n",
       "      <td>552,7 MB</td>\n",
       "      <td>816,4 MB</td>\n",
       "    </tr>\n",
       "    <tr>\n",
       "      <th>3</th>\n",
       "      <td>2022-12-24</td>\n",
       "      <td>NOS-F368-5</td>\n",
       "      <td>275 MB</td>\n",
       "      <td>660,4 MB</td>\n",
       "      <td>935,4 MB</td>\n",
       "    </tr>\n",
       "    <tr>\n",
       "      <th>4</th>\n",
       "      <td>2022-12-25</td>\n",
       "      <td>NOS-F368-5</td>\n",
       "      <td>100,6 MB</td>\n",
       "      <td>193,6 MB</td>\n",
       "      <td>294,2 MB</td>\n",
       "    </tr>\n",
       "    <tr>\n",
       "      <th>...</th>\n",
       "      <td>...</td>\n",
       "      <td>...</td>\n",
       "      <td>...</td>\n",
       "      <td>...</td>\n",
       "      <td>...</td>\n",
       "    </tr>\n",
       "    <tr>\n",
       "      <th>326</th>\n",
       "      <td>2023-10-22</td>\n",
       "      <td>Wi-Fi</td>\n",
       "      <td>1,99 GB</td>\n",
       "      <td>4,59 GB</td>\n",
       "      <td>6,58 GB</td>\n",
       "    </tr>\n",
       "    <tr>\n",
       "      <th>327</th>\n",
       "      <td>2023-10-23</td>\n",
       "      <td>Wi-Fi</td>\n",
       "      <td>4,11 GB</td>\n",
       "      <td>5,79 GB</td>\n",
       "      <td>9,89 GB</td>\n",
       "    </tr>\n",
       "    <tr>\n",
       "      <th>328</th>\n",
       "      <td>2023-10-24</td>\n",
       "      <td>Wi-Fi</td>\n",
       "      <td>1,95 GB</td>\n",
       "      <td>6,86 GB</td>\n",
       "      <td>8,81 GB</td>\n",
       "    </tr>\n",
       "    <tr>\n",
       "      <th>329</th>\n",
       "      <td>2023-10-25</td>\n",
       "      <td>Wi-Fi</td>\n",
       "      <td>5,99 GB</td>\n",
       "      <td>7,39 GB</td>\n",
       "      <td>13,38 GB</td>\n",
       "    </tr>\n",
       "    <tr>\n",
       "      <th>330</th>\n",
       "      <td>2023-10-26</td>\n",
       "      <td>Wi-Fi</td>\n",
       "      <td>600,3 MB</td>\n",
       "      <td>12,14 GB</td>\n",
       "      <td>12,74 GB</td>\n",
       "    </tr>\n",
       "  </tbody>\n",
       "</table>\n",
       "<p>331 rows × 5 columns</p>\n",
       "</div>"
      ]
     },
     "execution_count": 5,
     "metadata": {},
     "output_type": "execute_result"
    }
   ],
   "execution_count": 5
  },
  {
   "metadata": {
    "ExecuteTime": {
     "end_time": "2025-07-22T10:06:31.242971Z",
     "start_time": "2025-07-22T10:06:31.237234Z"
    }
   },
   "cell_type": "code",
   "source": "df.head()",
   "id": "7fd58d71812a66c1",
   "outputs": [
    {
     "data": {
      "text/plain": [
       "         Date     Network    Upload  Download     Total\n",
       "0  2022-12-21  NOS-F368-5   47,7 MB  135,3 MB    183 MB\n",
       "1  2022-12-22  NOS-F368-5    259 MB  447,5 MB  706,5 MB\n",
       "2  2022-12-23  NOS-F368-5  263,7 MB  552,7 MB  816,4 MB\n",
       "3  2022-12-24  NOS-F368-5    275 MB  660,4 MB  935,4 MB\n",
       "4  2022-12-25  NOS-F368-5  100,6 MB  193,6 MB  294,2 MB"
      ],
      "text/html": [
       "<div>\n",
       "<style scoped>\n",
       "    .dataframe tbody tr th:only-of-type {\n",
       "        vertical-align: middle;\n",
       "    }\n",
       "\n",
       "    .dataframe tbody tr th {\n",
       "        vertical-align: top;\n",
       "    }\n",
       "\n",
       "    .dataframe thead th {\n",
       "        text-align: right;\n",
       "    }\n",
       "</style>\n",
       "<table border=\"1\" class=\"dataframe\">\n",
       "  <thead>\n",
       "    <tr style=\"text-align: right;\">\n",
       "      <th></th>\n",
       "      <th>Date</th>\n",
       "      <th>Network</th>\n",
       "      <th>Upload</th>\n",
       "      <th>Download</th>\n",
       "      <th>Total</th>\n",
       "    </tr>\n",
       "  </thead>\n",
       "  <tbody>\n",
       "    <tr>\n",
       "      <th>0</th>\n",
       "      <td>2022-12-21</td>\n",
       "      <td>NOS-F368-5</td>\n",
       "      <td>47,7 MB</td>\n",
       "      <td>135,3 MB</td>\n",
       "      <td>183 MB</td>\n",
       "    </tr>\n",
       "    <tr>\n",
       "      <th>1</th>\n",
       "      <td>2022-12-22</td>\n",
       "      <td>NOS-F368-5</td>\n",
       "      <td>259 MB</td>\n",
       "      <td>447,5 MB</td>\n",
       "      <td>706,5 MB</td>\n",
       "    </tr>\n",
       "    <tr>\n",
       "      <th>2</th>\n",
       "      <td>2022-12-23</td>\n",
       "      <td>NOS-F368-5</td>\n",
       "      <td>263,7 MB</td>\n",
       "      <td>552,7 MB</td>\n",
       "      <td>816,4 MB</td>\n",
       "    </tr>\n",
       "    <tr>\n",
       "      <th>3</th>\n",
       "      <td>2022-12-24</td>\n",
       "      <td>NOS-F368-5</td>\n",
       "      <td>275 MB</td>\n",
       "      <td>660,4 MB</td>\n",
       "      <td>935,4 MB</td>\n",
       "    </tr>\n",
       "    <tr>\n",
       "      <th>4</th>\n",
       "      <td>2022-12-25</td>\n",
       "      <td>NOS-F368-5</td>\n",
       "      <td>100,6 MB</td>\n",
       "      <td>193,6 MB</td>\n",
       "      <td>294,2 MB</td>\n",
       "    </tr>\n",
       "  </tbody>\n",
       "</table>\n",
       "</div>"
      ]
     },
     "execution_count": 6,
     "metadata": {},
     "output_type": "execute_result"
    }
   ],
   "execution_count": 6
  },
  {
   "metadata": {
    "ExecuteTime": {
     "end_time": "2025-07-22T10:07:11.984707Z",
     "start_time": "2025-07-22T10:07:11.978993Z"
    }
   },
   "cell_type": "code",
   "source": "df.head(3)",
   "id": "a950405ab95cf867",
   "outputs": [
    {
     "data": {
      "text/plain": [
       "         Date     Network    Upload  Download     Total\n",
       "0  2022-12-21  NOS-F368-5   47,7 MB  135,3 MB    183 MB\n",
       "1  2022-12-22  NOS-F368-5    259 MB  447,5 MB  706,5 MB\n",
       "2  2022-12-23  NOS-F368-5  263,7 MB  552,7 MB  816,4 MB"
      ],
      "text/html": [
       "<div>\n",
       "<style scoped>\n",
       "    .dataframe tbody tr th:only-of-type {\n",
       "        vertical-align: middle;\n",
       "    }\n",
       "\n",
       "    .dataframe tbody tr th {\n",
       "        vertical-align: top;\n",
       "    }\n",
       "\n",
       "    .dataframe thead th {\n",
       "        text-align: right;\n",
       "    }\n",
       "</style>\n",
       "<table border=\"1\" class=\"dataframe\">\n",
       "  <thead>\n",
       "    <tr style=\"text-align: right;\">\n",
       "      <th></th>\n",
       "      <th>Date</th>\n",
       "      <th>Network</th>\n",
       "      <th>Upload</th>\n",
       "      <th>Download</th>\n",
       "      <th>Total</th>\n",
       "    </tr>\n",
       "  </thead>\n",
       "  <tbody>\n",
       "    <tr>\n",
       "      <th>0</th>\n",
       "      <td>2022-12-21</td>\n",
       "      <td>NOS-F368-5</td>\n",
       "      <td>47,7 MB</td>\n",
       "      <td>135,3 MB</td>\n",
       "      <td>183 MB</td>\n",
       "    </tr>\n",
       "    <tr>\n",
       "      <th>1</th>\n",
       "      <td>2022-12-22</td>\n",
       "      <td>NOS-F368-5</td>\n",
       "      <td>259 MB</td>\n",
       "      <td>447,5 MB</td>\n",
       "      <td>706,5 MB</td>\n",
       "    </tr>\n",
       "    <tr>\n",
       "      <th>2</th>\n",
       "      <td>2022-12-23</td>\n",
       "      <td>NOS-F368-5</td>\n",
       "      <td>263,7 MB</td>\n",
       "      <td>552,7 MB</td>\n",
       "      <td>816,4 MB</td>\n",
       "    </tr>\n",
       "  </tbody>\n",
       "</table>\n",
       "</div>"
      ]
     },
     "execution_count": 8,
     "metadata": {},
     "output_type": "execute_result"
    }
   ],
   "execution_count": 8
  },
  {
   "metadata": {
    "ExecuteTime": {
     "end_time": "2025-07-22T10:08:54.877772Z",
     "start_time": "2025-07-22T10:08:54.871485Z"
    }
   },
   "cell_type": "code",
   "source": "df.tail()",
   "id": "40582f939522a6e0",
   "outputs": [
    {
     "data": {
      "text/plain": [
       "           Date Network    Upload  Download     Total\n",
       "326  2023-10-22   Wi-Fi   1,99 GB   4,59 GB   6,58 GB\n",
       "327  2023-10-23   Wi-Fi   4,11 GB   5,79 GB   9,89 GB\n",
       "328  2023-10-24   Wi-Fi   1,95 GB   6,86 GB   8,81 GB\n",
       "329  2023-10-25   Wi-Fi   5,99 GB   7,39 GB  13,38 GB\n",
       "330  2023-10-26   Wi-Fi  600,3 MB  12,14 GB  12,74 GB"
      ],
      "text/html": [
       "<div>\n",
       "<style scoped>\n",
       "    .dataframe tbody tr th:only-of-type {\n",
       "        vertical-align: middle;\n",
       "    }\n",
       "\n",
       "    .dataframe tbody tr th {\n",
       "        vertical-align: top;\n",
       "    }\n",
       "\n",
       "    .dataframe thead th {\n",
       "        text-align: right;\n",
       "    }\n",
       "</style>\n",
       "<table border=\"1\" class=\"dataframe\">\n",
       "  <thead>\n",
       "    <tr style=\"text-align: right;\">\n",
       "      <th></th>\n",
       "      <th>Date</th>\n",
       "      <th>Network</th>\n",
       "      <th>Upload</th>\n",
       "      <th>Download</th>\n",
       "      <th>Total</th>\n",
       "    </tr>\n",
       "  </thead>\n",
       "  <tbody>\n",
       "    <tr>\n",
       "      <th>326</th>\n",
       "      <td>2023-10-22</td>\n",
       "      <td>Wi-Fi</td>\n",
       "      <td>1,99 GB</td>\n",
       "      <td>4,59 GB</td>\n",
       "      <td>6,58 GB</td>\n",
       "    </tr>\n",
       "    <tr>\n",
       "      <th>327</th>\n",
       "      <td>2023-10-23</td>\n",
       "      <td>Wi-Fi</td>\n",
       "      <td>4,11 GB</td>\n",
       "      <td>5,79 GB</td>\n",
       "      <td>9,89 GB</td>\n",
       "    </tr>\n",
       "    <tr>\n",
       "      <th>328</th>\n",
       "      <td>2023-10-24</td>\n",
       "      <td>Wi-Fi</td>\n",
       "      <td>1,95 GB</td>\n",
       "      <td>6,86 GB</td>\n",
       "      <td>8,81 GB</td>\n",
       "    </tr>\n",
       "    <tr>\n",
       "      <th>329</th>\n",
       "      <td>2023-10-25</td>\n",
       "      <td>Wi-Fi</td>\n",
       "      <td>5,99 GB</td>\n",
       "      <td>7,39 GB</td>\n",
       "      <td>13,38 GB</td>\n",
       "    </tr>\n",
       "    <tr>\n",
       "      <th>330</th>\n",
       "      <td>2023-10-26</td>\n",
       "      <td>Wi-Fi</td>\n",
       "      <td>600,3 MB</td>\n",
       "      <td>12,14 GB</td>\n",
       "      <td>12,74 GB</td>\n",
       "    </tr>\n",
       "  </tbody>\n",
       "</table>\n",
       "</div>"
      ]
     },
     "execution_count": 9,
     "metadata": {},
     "output_type": "execute_result"
    }
   ],
   "execution_count": 9
  },
  {
   "metadata": {
    "ExecuteTime": {
     "end_time": "2025-07-22T10:09:16.197043Z",
     "start_time": "2025-07-22T10:09:16.190958Z"
    }
   },
   "cell_type": "code",
   "source": "df.tail(3)",
   "id": "b9e048d2239e0a7f",
   "outputs": [
    {
     "data": {
      "text/plain": [
       "           Date Network    Upload  Download     Total\n",
       "328  2023-10-24   Wi-Fi   1,95 GB   6,86 GB   8,81 GB\n",
       "329  2023-10-25   Wi-Fi   5,99 GB   7,39 GB  13,38 GB\n",
       "330  2023-10-26   Wi-Fi  600,3 MB  12,14 GB  12,74 GB"
      ],
      "text/html": [
       "<div>\n",
       "<style scoped>\n",
       "    .dataframe tbody tr th:only-of-type {\n",
       "        vertical-align: middle;\n",
       "    }\n",
       "\n",
       "    .dataframe tbody tr th {\n",
       "        vertical-align: top;\n",
       "    }\n",
       "\n",
       "    .dataframe thead th {\n",
       "        text-align: right;\n",
       "    }\n",
       "</style>\n",
       "<table border=\"1\" class=\"dataframe\">\n",
       "  <thead>\n",
       "    <tr style=\"text-align: right;\">\n",
       "      <th></th>\n",
       "      <th>Date</th>\n",
       "      <th>Network</th>\n",
       "      <th>Upload</th>\n",
       "      <th>Download</th>\n",
       "      <th>Total</th>\n",
       "    </tr>\n",
       "  </thead>\n",
       "  <tbody>\n",
       "    <tr>\n",
       "      <th>328</th>\n",
       "      <td>2023-10-24</td>\n",
       "      <td>Wi-Fi</td>\n",
       "      <td>1,95 GB</td>\n",
       "      <td>6,86 GB</td>\n",
       "      <td>8,81 GB</td>\n",
       "    </tr>\n",
       "    <tr>\n",
       "      <th>329</th>\n",
       "      <td>2023-10-25</td>\n",
       "      <td>Wi-Fi</td>\n",
       "      <td>5,99 GB</td>\n",
       "      <td>7,39 GB</td>\n",
       "      <td>13,38 GB</td>\n",
       "    </tr>\n",
       "    <tr>\n",
       "      <th>330</th>\n",
       "      <td>2023-10-26</td>\n",
       "      <td>Wi-Fi</td>\n",
       "      <td>600,3 MB</td>\n",
       "      <td>12,14 GB</td>\n",
       "      <td>12,74 GB</td>\n",
       "    </tr>\n",
       "  </tbody>\n",
       "</table>\n",
       "</div>"
      ]
     },
     "execution_count": 10,
     "metadata": {},
     "output_type": "execute_result"
    }
   ],
   "execution_count": 10
  },
  {
   "metadata": {
    "ExecuteTime": {
     "end_time": "2025-07-22T10:09:32.420950Z",
     "start_time": "2025-07-22T10:09:32.412070Z"
    }
   },
   "cell_type": "code",
   "source": "df.info()",
   "id": "a7b21389913ccefb",
   "outputs": [
    {
     "name": "stdout",
     "output_type": "stream",
     "text": [
      "<class 'pandas.core.frame.DataFrame'>\n",
      "RangeIndex: 331 entries, 0 to 330\n",
      "Data columns (total 5 columns):\n",
      " #   Column    Non-Null Count  Dtype \n",
      "---  ------    --------------  ----- \n",
      " 0   Date      331 non-null    object\n",
      " 1   Network   331 non-null    object\n",
      " 2   Upload    331 non-null    object\n",
      " 3   Download  331 non-null    object\n",
      " 4   Total     331 non-null    object\n",
      "dtypes: object(5)\n",
      "memory usage: 13.1+ KB\n"
     ]
    }
   ],
   "execution_count": 11
  },
  {
   "metadata": {
    "ExecuteTime": {
     "end_time": "2025-07-22T10:20:06.867418Z",
     "start_time": "2025-07-22T10:20:06.857202Z"
    }
   },
   "cell_type": "code",
   "source": "df.describe()",
   "id": "cdff7441392b8a5",
   "outputs": [
    {
     "data": {
      "text/plain": [
       "              Date     Network Upload Download Total\n",
       "count          331         331    331      331   331\n",
       "unique         300           3    311      275   283\n",
       "top     2023-04-02  NOS-F368-5   1 KB  Zero KB  1 KB\n",
       "freq             3         254      5       16     5"
      ],
      "text/html": [
       "<div>\n",
       "<style scoped>\n",
       "    .dataframe tbody tr th:only-of-type {\n",
       "        vertical-align: middle;\n",
       "    }\n",
       "\n",
       "    .dataframe tbody tr th {\n",
       "        vertical-align: top;\n",
       "    }\n",
       "\n",
       "    .dataframe thead th {\n",
       "        text-align: right;\n",
       "    }\n",
       "</style>\n",
       "<table border=\"1\" class=\"dataframe\">\n",
       "  <thead>\n",
       "    <tr style=\"text-align: right;\">\n",
       "      <th></th>\n",
       "      <th>Date</th>\n",
       "      <th>Network</th>\n",
       "      <th>Upload</th>\n",
       "      <th>Download</th>\n",
       "      <th>Total</th>\n",
       "    </tr>\n",
       "  </thead>\n",
       "  <tbody>\n",
       "    <tr>\n",
       "      <th>count</th>\n",
       "      <td>331</td>\n",
       "      <td>331</td>\n",
       "      <td>331</td>\n",
       "      <td>331</td>\n",
       "      <td>331</td>\n",
       "    </tr>\n",
       "    <tr>\n",
       "      <th>unique</th>\n",
       "      <td>300</td>\n",
       "      <td>3</td>\n",
       "      <td>311</td>\n",
       "      <td>275</td>\n",
       "      <td>283</td>\n",
       "    </tr>\n",
       "    <tr>\n",
       "      <th>top</th>\n",
       "      <td>2023-04-02</td>\n",
       "      <td>NOS-F368-5</td>\n",
       "      <td>1 KB</td>\n",
       "      <td>Zero KB</td>\n",
       "      <td>1 KB</td>\n",
       "    </tr>\n",
       "    <tr>\n",
       "      <th>freq</th>\n",
       "      <td>3</td>\n",
       "      <td>254</td>\n",
       "      <td>5</td>\n",
       "      <td>16</td>\n",
       "      <td>5</td>\n",
       "    </tr>\n",
       "  </tbody>\n",
       "</table>\n",
       "</div>"
      ]
     },
     "execution_count": 13,
     "metadata": {},
     "output_type": "execute_result"
    }
   ],
   "execution_count": 13
  },
  {
   "metadata": {
    "ExecuteTime": {
     "end_time": "2025-07-22T10:21:27.110976Z",
     "start_time": "2025-07-22T10:21:27.108201Z"
    }
   },
   "cell_type": "code",
   "source": "df.shape",
   "id": "32fffd21aa060b47",
   "outputs": [
    {
     "data": {
      "text/plain": [
       "(331, 5)"
      ]
     },
     "execution_count": 15,
     "metadata": {},
     "output_type": "execute_result"
    }
   ],
   "execution_count": 15
  },
  {
   "metadata": {
    "ExecuteTime": {
     "end_time": "2025-07-22T10:21:48.617221Z",
     "start_time": "2025-07-22T10:21:48.614545Z"
    }
   },
   "cell_type": "code",
   "source": "df.columns",
   "id": "cadfc6cf6b12585",
   "outputs": [
    {
     "data": {
      "text/plain": [
       "Index(['Date', 'Network', 'Upload', 'Download', 'Total'], dtype='object')"
      ]
     },
     "execution_count": 16,
     "metadata": {},
     "output_type": "execute_result"
    }
   ],
   "execution_count": 16
  },
  {
   "metadata": {
    "ExecuteTime": {
     "end_time": "2025-07-22T10:22:09.531679Z",
     "start_time": "2025-07-22T10:22:09.528395Z"
    }
   },
   "cell_type": "code",
   "source": "df.axes",
   "id": "ef5cb184f1dbf021",
   "outputs": [
    {
     "data": {
      "text/plain": [
       "[RangeIndex(start=0, stop=331, step=1),\n",
       " Index(['Date', 'Network', 'Upload', 'Download', 'Total'], dtype='object')]"
      ]
     },
     "execution_count": 17,
     "metadata": {},
     "output_type": "execute_result"
    }
   ],
   "execution_count": 17
  },
  {
   "metadata": {
    "ExecuteTime": {
     "end_time": "2025-07-22T10:22:49.723023Z",
     "start_time": "2025-07-22T10:22:49.720246Z"
    }
   },
   "cell_type": "code",
   "source": "df.index",
   "id": "c816d1fef4321b97",
   "outputs": [
    {
     "data": {
      "text/plain": [
       "RangeIndex(start=0, stop=331, step=1)"
      ]
     },
     "execution_count": 18,
     "metadata": {},
     "output_type": "execute_result"
    }
   ],
   "execution_count": 18
  },
  {
   "metadata": {
    "ExecuteTime": {
     "end_time": "2025-07-22T10:23:44.782708Z",
     "start_time": "2025-07-22T10:23:44.780875Z"
    }
   },
   "cell_type": "code",
   "source": "",
   "id": "90e57ae655e66b9f",
   "outputs": [],
   "execution_count": null
  }
 ],
 "metadata": {
  "kernelspec": {
   "display_name": "Python 3",
   "language": "python",
   "name": "python3"
  },
  "language_info": {
   "codemirror_mode": {
    "name": "ipython",
    "version": 2
   },
   "file_extension": ".py",
   "mimetype": "text/x-python",
   "name": "python",
   "nbconvert_exporter": "python",
   "pygments_lexer": "ipython2",
   "version": "2.7.6"
  }
 },
 "nbformat": 4,
 "nbformat_minor": 5
}
